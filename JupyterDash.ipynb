{
 "cells": [
  {
   "cell_type": "code",
   "execution_count": 1,
   "metadata": {},
   "outputs": [],
   "source": [
    "from jupyter_plotly_dash import JupyterDash"
   ]
  },
  {
   "cell_type": "code",
   "execution_count": null,
   "metadata": {},
   "outputs": [],
   "source": [
    "import dash\n",
    "import dash_core_components as dcc\n",
    "import dash_html_components as html\n",
    "from dash.dependencies import Input, Output\n",
    "\n",
    "dd = JupyterDash('SomeID')\n",
    "\n",
    "dd.layout = html.Div([dcc.RadioItems(id='item_list', \n",
    "                                     options = [dict(label = k, value = k) for k in ['Hey', 'HiHi']]), \n",
    "                      html.Div(id='button_list')])\n",
    "@dd.callback(\n",
    "    Output(component_id='button_list', component_property='children'),\n",
    "    [Input(component_id='item_list', component_property='value')]\n",
    ")\n",
    "def update_button_list(selected_idx):\n",
    "    #print(\"Selected index is %s\"%selected_idx)\n",
    "    if selected_idx is not None:\n",
    "        return [html.Button('Hey %s %04d' % (selected_idx, i),\n",
    "                            id = 'id_%s_%04d' % (selected_idx, i)) for i in range(len(selected_idx))]\n",
    "\n"
   ]
  },
  {
   "cell_type": "code",
   "execution_count": null,
   "metadata": {},
   "outputs": [],
   "source": [
    "dd.width = 600\n",
    "dd.height = 200\n",
    "dd"
   ]
  },
  {
   "cell_type": "code",
   "execution_count": null,
   "metadata": {},
   "outputs": [],
   "source": [
    "dd"
   ]
  },
  {
   "cell_type": "code",
   "execution_count": null,
   "metadata": {},
   "outputs": [],
   "source": [
    "app = JupyterDash('SimpleExample')\n",
    "\n",
    "app.layout = html.Div([\n",
    "    dcc.RadioItems(\n",
    "        id='dropdown-color',\n",
    "        options=[{'label': c, 'value': c.lower()} for c in ['Red', 'Green', 'Blue']],\n",
    "        value='red'\n",
    "    ),\n",
    "    html.Div(id='output-color'),\n",
    "    dcc.RadioItems(\n",
    "        id='dropdown-size',\n",
    "        options=[{'label': i, 'value': j} for i, j in [('L','large'), ('M','medium'), ('S','small')]],\n",
    "        value='medium'\n",
    "    ),\n",
    "    html.Div(id='output-size')\n",
    "\n",
    "])\n",
    "\n",
    "@app.callback(\n",
    "    dash.dependencies.Output('output-color', 'children'),\n",
    "    [dash.dependencies.Input('dropdown-color', 'value')])\n",
    "def callback_color(dropdown_value):\n",
    "    return \"The selected color is %s.\" % dropdown_value\n",
    "\n",
    "@app.callback(\n",
    "    dash.dependencies.Output('output-size', 'children'),\n",
    "    [dash.dependencies.Input('dropdown-color', 'value'),\n",
    "     dash.dependencies.Input('dropdown-size', 'value')])\n",
    "def callback_size(dropdown_color, dropdown_size):\n",
    "    return \"The chosen T-shirt is a %s %s one.\" %(dropdown_size,\n",
    "                                                  dropdown_color)\n",
    "\n",
    "a2 = JupyterDash(\"Ex2\")\n",
    "a2.layout = html.Div([\n",
    "    dcc.RadioItems(id=\"dropdown-one\",options=[{'label':i,'value':j} for i,j in [\n",
    "    (\"O2\",\"Oxygen\"),(\"N2\",\"Nitrogen\"),]\n",
    "    ],value=\"Oxygen\"),\n",
    "    html.Div(id=\"output-one\")\n",
    "    ])\n",
    "\n",
    "@a2.expanded_callback(\n",
    "    dash.dependencies.Output('output-one','children'),\n",
    "    [dash.dependencies.Input('dropdown-one','value')]\n",
    "    )\n",
    "def callback_c(*args,**kwargs):\n",
    "    return \"Args are %s and kwargs are %s\" %(\"\".join(*args),str(kwargs))\n",
    "\n"
   ]
  },
  {
   "cell_type": "code",
   "execution_count": null,
   "metadata": {},
   "outputs": [],
   "source": [
    "app.height=100\n",
    "app"
   ]
  },
  {
   "cell_type": "code",
   "execution_count": null,
   "metadata": {},
   "outputs": [],
   "source": [
    "a2.height = 100\n",
    "a2"
   ]
  },
  {
   "cell_type": "code",
   "execution_count": null,
   "metadata": {},
   "outputs": [],
   "source": [
    "def app_info(nb_server_app):\n",
    "    web_app = nb_server_app.web_app\n",
    "    print(web_app.settings)\n",
    "    print(web_app.settings['base_url'])"
   ]
  },
  {
   "cell_type": "code",
   "execution_count": null,
   "metadata": {},
   "outputs": [],
   "source": [
    "a2"
   ]
  },
  {
   "cell_type": "code",
   "execution_count": null,
   "metadata": {},
   "outputs": [],
   "source": [
    "%load_ext jupyter_plotly_dash.ipython"
   ]
  },
  {
   "cell_type": "code",
   "execution_count": null,
   "metadata": {},
   "outputs": [],
   "source": [
    "import jupyter_plotly_dash"
   ]
  },
  {
   "cell_type": "code",
   "execution_count": null,
   "metadata": {},
   "outputs": [],
   "source": [
    "%dash_app feed"
   ]
  },
  {
   "cell_type": "code",
   "execution_count": null,
   "metadata": {},
   "outputs": [],
   "source": [
    "a2.app_state"
   ]
  },
  {
   "cell_type": "code",
   "execution_count": null,
   "metadata": {},
   "outputs": [],
   "source": [
    "app.app_state"
   ]
  },
  {
   "cell_type": "code",
   "execution_count": null,
   "metadata": {},
   "outputs": [],
   "source": [
    "import ipywidgets as widgets\n",
    "from IPython.display import display\n",
    "button = widgets.Button(description=\"Click Me!\")\n",
    "display(button)\n",
    "\n",
    "def on_button_clicked(b):\n",
    "    print(\"Button clicked.\")\n",
    "\n",
    "button.on_click(on_button_clicked)"
   ]
  },
  {
   "cell_type": "code",
   "execution_count": null,
   "metadata": {},
   "outputs": [],
   "source": [
    "html = widgets.HTML(value='''<iframe src=\"/fluptastic\" width=\"600\"/>\n",
    "<script>\n",
    "console.log(\"Widget here\");\n",
    "</script>\n",
    "<iframe src=\"/fluptastic\" width=\"600\"/>\n",
    "''')"
   ]
  },
  {
   "cell_type": "code",
   "execution_count": null,
   "metadata": {},
   "outputs": [],
   "source": [
    "html"
   ]
  },
  {
   "cell_type": "code",
   "execution_count": null,
   "metadata": {},
   "outputs": [],
   "source": [
    "widgets.HTML(value=app._repr_html_())"
   ]
  },
  {
   "cell_type": "code",
   "execution_count": 4,
   "metadata": {},
   "outputs": [],
   "source": [
    "class Fred:\n",
    "    def __init__(self, v):\n",
    "        self.v = v\n",
    "    def _repr_html_(self):\n",
    "        return self.v\n"
   ]
  },
  {
   "cell_type": "code",
   "execution_count": 8,
   "metadata": {},
   "outputs": [
    {
     "data": {
      "text/html": [
       "\n",
       "<script>\n",
       "console.log(\"Widget here\");\n",
       "var Jupyter2 = require(\"base/js/namespace\");\n",
       "var kernel = Jupyter2.notebook.kernel;\n",
       "console.log(Jupyter2);\n",
       "console.log($);\n",
       "//$.ajax({url:\"/fluptastic\",success:function(result) {\n",
       "//console.log(\"Got ajax fluptasticness\");\n",
       "//console.log(result);\n",
       "//    }\n",
       "//});\n",
       "var cbf = function(response) {\n",
       "console.log(\"In cbf\");\n",
       "console.log(response);\n",
       "console.log(response.header.session);\n",
       "console.log(response.content.text);\n",
       "};\n",
       "console.log(\"Doing ther exe\");\n",
       "kernel.execute(\"print(JupyterDash)\",{iopub:{output:cbf}});\n",
       "console.log(kernel);\n",
       "console.log(kernel.kernel_url);\n",
       "var zmqChan = kernel.kernel_url\n",
       "var session_id = kernel.session_id;\n",
       "//$.ajax({url:kernel.kernel_url +\"/channels\",data:{session_id:session_id}}).done(cbf);\n",
       "</script>\n"
      ],
      "text/plain": [
       "<__main__.Fred at 0x7fe31df6d278>"
      ]
     },
     "execution_count": 8,
     "metadata": {},
     "output_type": "execute_result"
    }
   ],
   "source": [
    "f = Fred('''\n",
    "<script>\n",
    "console.log(\"Widget here\");\n",
    "var Jupyter2 = require(\"base/js/namespace\");\n",
    "var kernel = Jupyter2.notebook.kernel;\n",
    "console.log(Jupyter2);\n",
    "console.log($);\n",
    "//$.ajax({url:\"/fluptastic\",success:function(result) {\n",
    "//console.log(\"Got ajax fluptasticness\");\n",
    "//console.log(result);\n",
    "//    }\n",
    "//});\n",
    "var cbf = function(response) {\n",
    "console.log(\"In cbf\");\n",
    "console.log(response);\n",
    "console.log(response.header.session);\n",
    "console.log(response.content.text);\n",
    "};\n",
    "console.log(\"Doing ther exe\");\n",
    "kernel.execute(\"print(JupyterDash)\",{iopub:{output:cbf}});\n",
    "console.log(kernel);\n",
    "console.log(kernel.kernel_url);\n",
    "var zmqChan = kernel.kernel_url\n",
    "var session_id = kernel.session_id;\n",
    "//$.ajax({url:kernel.kernel_url +\"/channels\",data:{session_id:session_id}}).done(cbf);\n",
    "</script>\n",
    "''')\n",
    "f"
   ]
  },
  {
   "cell_type": "code",
   "execution_count": null,
   "metadata": {},
   "outputs": [],
   "source": [
    "f._repr_html_()"
   ]
  },
  {
   "cell_type": "code",
   "execution_count": null,
   "metadata": {},
   "outputs": [],
   "source": [
    "import uuid"
   ]
  },
  {
   "cell_type": "code",
   "execution_count": null,
   "metadata": {},
   "outputs": [],
   "source": [
    "str(uuid.uuid4())"
   ]
  },
  {
   "cell_type": "code",
   "execution_count": 10,
   "metadata": {},
   "outputs": [
    {
     "data": {
      "text/html": [
       "\n",
       "<script>\n",
       "console.log(\"Widget here\");\n",
       "var Jupyter2 = require(\"base/js/namespace\");\n",
       "var kernel = Jupyter2.notebook.kernel;\n",
       "console.log(Jupyter2);\n",
       "console.log($);\n",
       "//$.ajax({url:\"/fluptastic\",success:function(result) {\n",
       "//console.log(\"Got ajax fluptasticness\");\n",
       "//console.log(result);\n",
       "//    }\n",
       "//});\n",
       "var cbf = function(response) {\n",
       "console.log(\"In cbf\");\n",
       "console.log(response);\n",
       "console.log(response.header.session);\n",
       "console.log(response.content.text);\n",
       "};\n",
       "console.log(\"Doing ther exe\");\n",
       "kernel.execute(\"print(JupyterDash)\",{iopub:{output:cbf}});\n",
       "console.log(kernel);\n",
       "console.log(kernel.kernel_url);\n",
       "var zmqChan = kernel.kernel_url\n",
       "var session_id = kernel.session_id;\n",
       "//$.ajax({url:kernel.kernel_url +\"/channels\",data:{session_id:session_id}}).done(cbf);\n",
       "</script>\n"
      ],
      "text/plain": [
       "<__main__.Fred at 0x7fe31df6d278>"
      ]
     },
     "execution_count": 10,
     "metadata": {},
     "output_type": "execute_result"
    }
   ],
   "source": [
    "f"
   ]
  },
  {
   "cell_type": "code",
   "execution_count": null,
   "metadata": {},
   "outputs": [],
   "source": []
  }
 ],
 "metadata": {
  "kernelspec": {
   "display_name": "Python 3",
   "language": "python",
   "name": "python3"
  },
  "language_info": {
   "codemirror_mode": {
    "name": "ipython",
    "version": 3
   },
   "file_extension": ".py",
   "mimetype": "text/x-python",
   "name": "python",
   "nbconvert_exporter": "python",
   "pygments_lexer": "ipython3",
   "version": "3.6.5"
  }
 },
 "nbformat": 4,
 "nbformat_minor": 2
}
