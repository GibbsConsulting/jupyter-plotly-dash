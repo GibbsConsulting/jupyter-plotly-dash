{
 "cells": [
  {
   "cell_type": "code",
   "execution_count": 1,
   "metadata": {},
   "outputs": [],
   "source": [
    "from jupyter_plotly_dash import JupyterDash"
   ]
  },
  {
   "cell_type": "code",
   "execution_count": 2,
   "metadata": {},
   "outputs": [],
   "source": [
    "import dash\n",
    "import dash_core_components as dcc\n",
    "import dash_html_components as html\n",
    "from dash.dependencies import Input, Output\n",
    "\n",
    "dd = JupyterDash('SomeID')\n",
    "\n",
    "dd.layout = html.Div([dcc.RadioItems(id='item_list', \n",
    "                                     options = [dict(label = k, value = k) for k in ['Hey', 'HiHi']]), \n",
    "                      html.Div(id='button_list')])\n",
    "@dd.expanded_callback(\n",
    "    Output(component_id='button_list', component_property='children'),\n",
    "    [Input(component_id='item_list', component_property='value')],\n",
    ")\n",
    "def update_button_list(selected_idx, **kwargs):\n",
    "    #print(\"Selected index is %s\"%selected_idx)\n",
    "    if selected_idx is not None:\n",
    "        return [html.Button('Hey %s %04d' % (selected_idx, i),\n",
    "                            id = 'id_%s_%04d' % (selected_idx, i)) for i in range(len(selected_idx))]\n",
    "\n"
   ]
  },
  {
   "cell_type": "code",
   "execution_count": 3,
   "metadata": {},
   "outputs": [
    {
     "data": {
      "text/html": [
       "<div>\n",
       "  <iframe src=\"/app/endpoints/2f2216256833454083843ddf993755de/\" width=600 height=200 frameborder=\"0\"></iframe>\n",
       "  <hr/><a href=\"/app/endpoints/2f2216256833454083843ddf993755de/\" target=\"_new\">Open in new window</a> for /app/endpoints/2f2216256833454083843ddf993755de/\n",
       "</div>"
      ],
      "text/plain": [
       "<jupyter_plotly_dash.dash_wrapper.JupyterDash at 0x7f44e5bd7518>"
      ]
     },
     "execution_count": 3,
     "metadata": {},
     "output_type": "execute_result"
    }
   ],
   "source": [
    "dd.width = 600\n",
    "dd.height = 200\n",
    "dd"
   ]
  },
  {
   "cell_type": "code",
   "execution_count": 4,
   "metadata": {},
   "outputs": [
    {
     "data": {
      "text/plain": [
       "'/app/endpoints/2f2216256833454083843ddf993755de/'"
      ]
     },
     "execution_count": 4,
     "metadata": {},
     "output_type": "execute_result"
    }
   ],
   "source": [
    "dd.get_app_root_url()"
   ]
  },
  {
   "cell_type": "code",
   "execution_count": 5,
   "metadata": {},
   "outputs": [],
   "source": [
    "dd.local_uuid\n",
    "dd.use_nbproxy = True"
   ]
  },
  {
   "cell_type": "code",
   "execution_count": null,
   "metadata": {},
   "outputs": [],
   "source": []
  },
  {
   "cell_type": "code",
   "execution_count": 6,
   "metadata": {},
   "outputs": [
    {
     "data": {
      "text/html": [
       "<div>\n",
       "  <iframe src=\"/proxy/8055/SomeID/\" width=600 height=200 frameborder=\"0\"></iframe>\n",
       "  <hr/><a href=\"/proxy/8055/SomeID/\" target=\"_new\">Open in new window</a> for /proxy/8055/SomeID/\n",
       "</div>"
      ],
      "text/plain": [
       "<jupyter_plotly_dash.dash_wrapper.JupyterDash at 0x7f44e5bd7518>"
      ]
     },
     "execution_count": 6,
     "metadata": {},
     "output_type": "execute_result"
    }
   ],
   "source": [
    "dd"
   ]
  },
  {
   "cell_type": "code",
   "execution_count": 7,
   "metadata": {},
   "outputs": [],
   "source": [
    "app = JupyterDash('SimpleExample')\n",
    "\n",
    "app.layout = html.Div([\n",
    "    dcc.RadioItems(\n",
    "        id='dropdown-color',\n",
    "        options=[{'label': c, 'value': c.lower()} for c in ['Red', 'Green', 'Blue']],\n",
    "        value='red'\n",
    "    ),\n",
    "    html.Div(id='output-color'),\n",
    "    dcc.RadioItems(\n",
    "        id='dropdown-size',\n",
    "        options=[{'label': i, 'value': j} for i, j in [('L','large'), ('M','medium'), ('S','small')]],\n",
    "        value='medium'\n",
    "    ),\n",
    "    html.Div(id='output-size')\n",
    "\n",
    "])\n",
    "\n",
    "@app.callback(\n",
    "    dash.dependencies.Output('output-color', 'children'),\n",
    "    [dash.dependencies.Input('dropdown-color', 'value')])\n",
    "def callback_color(dropdown_value):\n",
    "    return \"The selected color is %s.\" % dropdown_value\n",
    "\n",
    "@app.callback(\n",
    "    dash.dependencies.Output('output-size', 'children'),\n",
    "    [dash.dependencies.Input('dropdown-color', 'value'),\n",
    "     dash.dependencies.Input('dropdown-size', 'value')])\n",
    "def callback_size(dropdown_color, dropdown_size):\n",
    "    return \"The chosen T-shirt is a %s %s one.\" %(dropdown_size,\n",
    "                                                  dropdown_color)\n",
    "\n",
    "a2 = JupyterDash(\"Ex2\")\n",
    "a2.layout = html.Div([\n",
    "    dcc.Interval(id='ticking-interval',\n",
    "                 interval=2500),\n",
    "    dcc.RadioItems(id=\"dropdown-one\",options=[{'label':i,'value':j} for i,j in [\n",
    "    (\"O2\",\"Oxygen\"),(\"N2\",\"Nitrogen\"),(\"CO2\",\"Carbon Dioxide\"),(\"CH4\",\"Methane\"),]\n",
    "    ],value=\"Oxygen\"),\n",
    "    html.Div(id=\"output-one\")\n",
    "    ])\n",
    "\n",
    "@a2.expanded_callback(\n",
    "    dash.dependencies.Output('output-one','children'),\n",
    "    [dash.dependencies.Input('dropdown-one','value')],\n",
    "    #events = [Event(component_id=\"ticking-interval\", component_event=\"interval\")]\n",
    "    )\n",
    "def callback_c(*args,**kwargs):\n",
    "    session_state = kwargs.get('session_state', None)\n",
    "    iss = str(\"Incoming session state %s\"%session_state)\n",
    "    if not session_state:\n",
    "        session_state = {}\n",
    "        kwargs['session_state'] = session_state\n",
    "    session_state['the_args'] = args\n",
    "    #session_state['incoming'] = session_state.get('incoming',0) + 1000\n",
    "    return \"Args are %s and kwargs are %s with iss %s\" %(\"\".join(*args),str(kwargs),str(iss))\n",
    "\n"
   ]
  },
  {
   "cell_type": "code",
   "execution_count": 8,
   "metadata": {},
   "outputs": [
    {
     "data": {
      "text/html": [
       "<div>\n",
       "  <iframe src=\"/app/endpoints/58cceed54a4c4c28988d2d255833b001/\" width=800 height=100 frameborder=\"0\"></iframe>\n",
       "  <hr/><a href=\"/app/endpoints/58cceed54a4c4c28988d2d255833b001/\" target=\"_new\">Open in new window</a> for /app/endpoints/58cceed54a4c4c28988d2d255833b001/\n",
       "</div>"
      ],
      "text/plain": [
       "<jupyter_plotly_dash.dash_wrapper.JupyterDash at 0x7f44c219a160>"
      ]
     },
     "execution_count": 8,
     "metadata": {},
     "output_type": "execute_result"
    }
   ],
   "source": [
    "app.height=100\n",
    "app"
   ]
  },
  {
   "cell_type": "code",
   "execution_count": 9,
   "metadata": {},
   "outputs": [
    {
     "data": {
      "text/html": [
       "<div>\n",
       "  <iframe src=\"/app/endpoints/ff6cf46043a848b696a66ffeedcee85b/\" width=800 height=100 frameborder=\"0\"></iframe>\n",
       "  <hr/><a href=\"/app/endpoints/ff6cf46043a848b696a66ffeedcee85b/\" target=\"_new\">Open in new window</a> for /app/endpoints/ff6cf46043a848b696a66ffeedcee85b/\n",
       "</div>"
      ],
      "text/plain": [
       "<jupyter_plotly_dash.dash_wrapper.JupyterDash at 0x7f44c219a3c8>"
      ]
     },
     "execution_count": 9,
     "metadata": {},
     "output_type": "execute_result"
    }
   ],
   "source": [
    "a2.height = 100\n",
    "a2"
   ]
  },
  {
   "cell_type": "code",
   "execution_count": 10,
   "metadata": {},
   "outputs": [],
   "source": [
    "def app_info(nb_server_app):\n",
    "    web_app = nb_server_app.web_app\n",
    "    print(web_app.settings)\n",
    "    print(web_app.settings['base_url'])"
   ]
  },
  {
   "cell_type": "code",
   "execution_count": 11,
   "metadata": {},
   "outputs": [
    {
     "data": {
      "text/html": [
       "<div>\n",
       "  <iframe src=\"/app/endpoints/ff6cf46043a848b696a66ffeedcee85b/\" width=800 height=100 frameborder=\"0\"></iframe>\n",
       "  <hr/><a href=\"/app/endpoints/ff6cf46043a848b696a66ffeedcee85b/\" target=\"_new\">Open in new window</a> for /app/endpoints/ff6cf46043a848b696a66ffeedcee85b/\n",
       "</div>"
      ],
      "text/plain": [
       "<jupyter_plotly_dash.dash_wrapper.JupyterDash at 0x7f44c219a3c8>"
      ]
     },
     "execution_count": 11,
     "metadata": {},
     "output_type": "execute_result"
    }
   ],
   "source": [
    "a2"
   ]
  },
  {
   "cell_type": "code",
   "execution_count": 12,
   "metadata": {},
   "outputs": [],
   "source": [
    "%load_ext jupyter_plotly_dash.ipython"
   ]
  },
  {
   "cell_type": "code",
   "execution_count": 13,
   "metadata": {},
   "outputs": [
    {
     "name": "stdout",
     "output_type": "stream",
     "text": [
      "dash_app magic\n",
      "feed\n",
      "None\n"
     ]
    }
   ],
   "source": [
    "%dash_app feed"
   ]
  },
  {
   "cell_type": "code",
   "execution_count": 14,
   "metadata": {},
   "outputs": [],
   "source": [
    "a2.session_state['BONUS'] = 'some extra stuff'"
   ]
  },
  {
   "cell_type": "code",
   "execution_count": 15,
   "metadata": {},
   "outputs": [
    {
     "data": {
      "text/plain": [
       "{}"
      ]
     },
     "execution_count": 15,
     "metadata": {},
     "output_type": "execute_result"
    }
   ],
   "source": [
    "app.app_state"
   ]
  },
  {
   "cell_type": "code",
   "execution_count": 16,
   "metadata": {},
   "outputs": [
    {
     "data": {
      "application/vnd.jupyter.widget-view+json": {
       "model_id": "e14393b0cbf4489ca495d227ab79f8ee",
       "version_major": 2,
       "version_minor": 0
      },
      "text/plain": [
       "Button(description='Click Me!', style=ButtonStyle())"
      ]
     },
     "metadata": {},
     "output_type": "display_data"
    }
   ],
   "source": [
    "import ipywidgets as widgets\n",
    "from IPython.display import display\n",
    "button = widgets.Button(description=\"Click Me!\")\n",
    "display(button)\n",
    "\n",
    "def on_button_clicked(b):\n",
    "    print(\"Button clicked.\") # Output in Jupyter but not JupyterLab\n",
    "    app.app_state['bc'] = app.app_state.get('bc',0) +1\n",
    "\n",
    "button.on_click(on_button_clicked)"
   ]
  },
  {
   "cell_type": "code",
   "execution_count": 17,
   "metadata": {},
   "outputs": [
    {
     "data": {
      "text/plain": [
       "{}"
      ]
     },
     "execution_count": 17,
     "metadata": {},
     "output_type": "execute_result"
    }
   ],
   "source": [
    "dd.app_state"
   ]
  },
  {
   "cell_type": "code",
   "execution_count": 18,
   "metadata": {},
   "outputs": [
    {
     "name": "stdout",
     "output_type": "stream",
     "text": [
      "config dir: /home/mark/local/jpd/env/etc/jupyter\n",
      "    jupyter_plotly_dash.serverext \u001b[32m enabled \u001b[0m\n",
      "    - Validating...\n",
      "      jupyter_plotly_dash.serverext  \u001b[32mOK\u001b[0m\n",
      "    nbserverproxy \u001b[32m enabled \u001b[0m\n",
      "    - Validating...\n",
      "      nbserverproxy  \u001b[32mOK\u001b[0m\n"
     ]
    }
   ],
   "source": [
    "!jupyter serverextension list"
   ]
  },
  {
   "cell_type": "code",
   "execution_count": null,
   "metadata": {},
   "outputs": [],
   "source": []
  }
 ],
 "metadata": {
  "kernelspec": {
   "display_name": "Python 3",
   "language": "python",
   "name": "python3"
  },
  "language_info": {
   "codemirror_mode": {
    "name": "ipython",
    "version": 3
   },
   "file_extension": ".py",
   "mimetype": "text/x-python",
   "name": "python",
   "nbconvert_exporter": "python",
   "pygments_lexer": "ipython3",
   "version": "3.6.8"
  }
 },
 "nbformat": 4,
 "nbformat_minor": 2
}
