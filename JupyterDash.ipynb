{
 "cells": [
  {
   "cell_type": "code",
   "execution_count": 1,
   "metadata": {},
   "outputs": [],
   "source": [
    "from jupyter_plotly_dash import JupyterDash"
   ]
  },
  {
   "cell_type": "code",
   "execution_count": 2,
   "metadata": {},
   "outputs": [],
   "source": [
    "import dash\n",
    "import dash_core_components as dcc\n",
    "import dash_html_components as html\n",
    "from dash.dependencies import Input, Output\n",
    "\n",
    "dd = JupyterDash('SomeID')\n",
    "\n",
    "dd.layout = html.Div([dcc.RadioItems(id='item_list', \n",
    "                                     options = [dict(label = k, value = k) for k in ['Hey', 'HiHi']]), \n",
    "                      html.Div(id='button_list')])\n",
    "@dd.callback(\n",
    "    Output(component_id='button_list', component_property='children'),\n",
    "    [Input(component_id='item_list', component_property='value')]\n",
    ")\n",
    "def update_button_list(selected_idx):\n",
    "    #print(\"Selected index is %s\"%selected_idx)\n",
    "    if selected_idx is not None:\n",
    "        return [html.Button('Hey %s %04d' % (selected_idx, i),\n",
    "                            id = 'id_%s_%04d' % (selected_idx, i)) for i in range(len(selected_idx))]\n",
    "\n"
   ]
  },
  {
   "cell_type": "code",
   "execution_count": 3,
   "metadata": {},
   "outputs": [
    {
     "data": {
      "text/html": [
       "<div>\n",
       "        <script>\n",
       "var kernel = require(\"base/js/namespace\").notebook.kernel;\n",
       "var session_id = kernel.session_id;\n",
       "\n",
       "$.ajax({url:\"/app/register/00f75ad6fdff4d678a3d4c9110cfdda3\",\n",
       "        method:\"GET\",\n",
       "        data:{session_id:kernel.session_id,\n",
       "              kernel_id:kernel.id},\n",
       "        success:function(result) {\n",
       "console.log(\"Got ajax fluptasticness\");\n",
       "}}).always(function(response){\n",
       "console.log(\"Always response\");\n",
       "console.log(response);\n",
       "})\n",
       ";\n",
       "</script>\n",
       "<iframe src=\"/app/endpoints/00f75ad6fdff4d678a3d4c9110cfdda3/\" width=600 height=200></iframe>\n",
       "  {external}\n",
       "</div>"
      ],
      "text/plain": [
       "<jupyter_plotly_dash.dash_wrapper.JupyterDash at 0x7f72ee2ea828>"
      ]
     },
     "execution_count": 3,
     "metadata": {},
     "output_type": "execute_result"
    }
   ],
   "source": [
    "dd.width = 600\n",
    "dd.height = 200\n",
    "dd"
   ]
  },
  {
   "cell_type": "code",
   "execution_count": 4,
   "metadata": {},
   "outputs": [
    {
     "data": {
      "text/html": [
       "<div>\n",
       "        <script>\n",
       "var kernel = require(\"base/js/namespace\").notebook.kernel;\n",
       "var session_id = kernel.session_id;\n",
       "\n",
       "$.ajax({url:\"/app/register/00f75ad6fdff4d678a3d4c9110cfdda3\",\n",
       "        method:\"GET\",\n",
       "        data:{session_id:kernel.session_id,\n",
       "              kernel_id:kernel.id},\n",
       "        success:function(result) {\n",
       "console.log(\"Got ajax fluptasticness\");\n",
       "}}).always(function(response){\n",
       "console.log(\"Always response\");\n",
       "console.log(response);\n",
       "})\n",
       ";\n",
       "</script>\n",
       "<iframe src=\"/app/endpoints/00f75ad6fdff4d678a3d4c9110cfdda3/\" width=600 height=200></iframe>\n",
       "  {external}\n",
       "</div>"
      ],
      "text/plain": [
       "<jupyter_plotly_dash.dash_wrapper.JupyterDash at 0x7f72ee2ea828>"
      ]
     },
     "execution_count": 4,
     "metadata": {},
     "output_type": "execute_result"
    }
   ],
   "source": [
    "dd"
   ]
  },
  {
   "cell_type": "code",
   "execution_count": 5,
   "metadata": {},
   "outputs": [],
   "source": [
    "app = JupyterDash('SimpleExample')\n",
    "\n",
    "app.layout = html.Div([\n",
    "    dcc.RadioItems(\n",
    "        id='dropdown-color',\n",
    "        options=[{'label': c, 'value': c.lower()} for c in ['Red', 'Green', 'Blue']],\n",
    "        value='red'\n",
    "    ),\n",
    "    html.Div(id='output-color'),\n",
    "    dcc.RadioItems(\n",
    "        id='dropdown-size',\n",
    "        options=[{'label': i, 'value': j} for i, j in [('L','large'), ('M','medium'), ('S','small')]],\n",
    "        value='medium'\n",
    "    ),\n",
    "    html.Div(id='output-size')\n",
    "\n",
    "])\n",
    "\n",
    "@app.callback(\n",
    "    dash.dependencies.Output('output-color', 'children'),\n",
    "    [dash.dependencies.Input('dropdown-color', 'value')])\n",
    "def callback_color(dropdown_value):\n",
    "    return \"The selected color is %s.\" % dropdown_value\n",
    "\n",
    "@app.callback(\n",
    "    dash.dependencies.Output('output-size', 'children'),\n",
    "    [dash.dependencies.Input('dropdown-color', 'value'),\n",
    "     dash.dependencies.Input('dropdown-size', 'value')])\n",
    "def callback_size(dropdown_color, dropdown_size):\n",
    "    return \"The chosen T-shirt is a %s %s one.\" %(dropdown_size,\n",
    "                                                  dropdown_color)\n",
    "\n",
    "a2 = JupyterDash(\"Ex2\")\n",
    "a2.layout = html.Div([\n",
    "    dcc.RadioItems(id=\"dropdown-one\",options=[{'label':i,'value':j} for i,j in [\n",
    "    (\"O2\",\"Oxygen\"),(\"N2\",\"Nitrogen\"),]\n",
    "    ],value=\"Oxygen\"),\n",
    "    html.Div(id=\"output-one\")\n",
    "    ])\n",
    "\n",
    "@a2.expanded_callback(\n",
    "    dash.dependencies.Output('output-one','children'),\n",
    "    [dash.dependencies.Input('dropdown-one','value')]\n",
    "    )\n",
    "def callback_c(*args,**kwargs):\n",
    "    return \"Args are %s and kwargs are %s\" %(\"\".join(*args),str(kwargs))\n",
    "\n"
   ]
  },
  {
   "cell_type": "code",
   "execution_count": 6,
   "metadata": {},
   "outputs": [
    {
     "data": {
      "text/html": [
       "<div>\n",
       "        <script>\n",
       "var kernel = require(\"base/js/namespace\").notebook.kernel;\n",
       "var session_id = kernel.session_id;\n",
       "\n",
       "$.ajax({url:\"/app/register/8d6c6df4e02648bf91e65e26de6c621e\",\n",
       "        method:\"GET\",\n",
       "        data:{session_id:kernel.session_id,\n",
       "              kernel_id:kernel.id},\n",
       "        success:function(result) {\n",
       "console.log(\"Got ajax fluptasticness\");\n",
       "}}).always(function(response){\n",
       "console.log(\"Always response\");\n",
       "console.log(response);\n",
       "})\n",
       ";\n",
       "</script>\n",
       "<iframe src=\"/app/endpoints/8d6c6df4e02648bf91e65e26de6c621e/\" width=800 height=100></iframe>\n",
       "  {external}\n",
       "</div>"
      ],
      "text/plain": [
       "<jupyter_plotly_dash.dash_wrapper.JupyterDash at 0x7f72ee82e470>"
      ]
     },
     "execution_count": 6,
     "metadata": {},
     "output_type": "execute_result"
    }
   ],
   "source": [
    "app.height=100\n",
    "app"
   ]
  },
  {
   "cell_type": "code",
   "execution_count": 7,
   "metadata": {},
   "outputs": [
    {
     "data": {
      "text/html": [
       "<div>\n",
       "        <script>\n",
       "var kernel = require(\"base/js/namespace\").notebook.kernel;\n",
       "var session_id = kernel.session_id;\n",
       "\n",
       "$.ajax({url:\"/app/register/a208246805c44ec68041f9974b93944a\",\n",
       "        method:\"GET\",\n",
       "        data:{session_id:kernel.session_id,\n",
       "              kernel_id:kernel.id},\n",
       "        success:function(result) {\n",
       "console.log(\"Got ajax fluptasticness\");\n",
       "}}).always(function(response){\n",
       "console.log(\"Always response\");\n",
       "console.log(response);\n",
       "})\n",
       ";\n",
       "</script>\n",
       "<iframe src=\"/app/endpoints/a208246805c44ec68041f9974b93944a/\" width=800 height=100></iframe>\n",
       "  {external}\n",
       "</div>"
      ],
      "text/plain": [
       "<jupyter_plotly_dash.dash_wrapper.JupyterDash at 0x7f72ee82e780>"
      ]
     },
     "execution_count": 7,
     "metadata": {},
     "output_type": "execute_result"
    }
   ],
   "source": [
    "a2.height = 100\n",
    "a2"
   ]
  },
  {
   "cell_type": "code",
   "execution_count": null,
   "metadata": {},
   "outputs": [],
   "source": [
    "def app_info(nb_server_app):\n",
    "    web_app = nb_server_app.web_app\n",
    "    print(web_app.settings)\n",
    "    print(web_app.settings['base_url'])"
   ]
  },
  {
   "cell_type": "code",
   "execution_count": null,
   "metadata": {},
   "outputs": [],
   "source": [
    "a2"
   ]
  },
  {
   "cell_type": "code",
   "execution_count": null,
   "metadata": {},
   "outputs": [],
   "source": [
    "%load_ext jupyter_plotly_dash.ipython"
   ]
  },
  {
   "cell_type": "code",
   "execution_count": null,
   "metadata": {},
   "outputs": [],
   "source": [
    "import jupyter_plotly_dash"
   ]
  },
  {
   "cell_type": "code",
   "execution_count": null,
   "metadata": {},
   "outputs": [],
   "source": [
    "%dash_app feed"
   ]
  },
  {
   "cell_type": "code",
   "execution_count": null,
   "metadata": {},
   "outputs": [],
   "source": [
    "a2.app_state"
   ]
  },
  {
   "cell_type": "code",
   "execution_count": null,
   "metadata": {},
   "outputs": [],
   "source": [
    "app.app_state"
   ]
  },
  {
   "cell_type": "code",
   "execution_count": null,
   "metadata": {},
   "outputs": [],
   "source": [
    "import ipywidgets as widgets\n",
    "from IPython.display import display\n",
    "button = widgets.Button(description=\"Click Me!\")\n",
    "display(button)\n",
    "\n",
    "def on_button_clicked(b):\n",
    "    print(\"Button clicked.\")\n",
    "\n",
    "button.on_click(on_button_clicked)"
   ]
  },
  {
   "cell_type": "code",
   "execution_count": null,
   "metadata": {},
   "outputs": [],
   "source": [
    "html = widgets.HTML(value='''<iframe src=\"/fluptastic\" width=\"600\"/>\n",
    "<script>\n",
    "console.log(\"Widget here\");\n",
    "</script>\n",
    "<iframe src=\"/fluptastic\" width=\"600\"/>\n",
    "''')"
   ]
  },
  {
   "cell_type": "code",
   "execution_count": null,
   "metadata": {},
   "outputs": [],
   "source": [
    "html"
   ]
  },
  {
   "cell_type": "code",
   "execution_count": null,
   "metadata": {},
   "outputs": [],
   "source": [
    "widgets.HTML(value=app._repr_html_())"
   ]
  },
  {
   "cell_type": "code",
   "execution_count": null,
   "metadata": {},
   "outputs": [],
   "source": [
    "class Fred:\n",
    "    def __init__(self, v):\n",
    "        self.v = v\n",
    "    def _repr_html_(self):\n",
    "        return self.v\n"
   ]
  },
  {
   "cell_type": "code",
   "execution_count": null,
   "metadata": {},
   "outputs": [],
   "source": [
    "f = Fred('''\n",
    "\n",
    "<script>\n",
    "console.log(\"Widget here\");\n",
    "var kernel = require(\"base/js/namespace\").notebook.kernel;\n",
    "var session_id = kernel.session_id;\n",
    "\n",
    "$.ajax({url:\"/app/registrants\",\n",
    "        method:\"GET\",\n",
    "        data:{session_id:kernel.session_id,\n",
    "              kernel_id:kernel.id},\n",
    "        success:function(result) {\n",
    "console.log(\"Got ajax fluptasticness\");\n",
    "console.log(result);\n",
    "    }\n",
    "}).always(function(response){\n",
    "console.log(\"Always response\");\n",
    "console.log(response);\n",
    "})\n",
    ";\n",
    "var cbf = function(response) {\n",
    "console.log(\"In cbf\");\n",
    "console.log(response);\n",
    "console.log(response.header.session);\n",
    "console.log(response.content.text);\n",
    "};\n",
    "console.log(\"Doing ther exe\");\n",
    "//kernel.execute(\"print(JupyterDash)\",{iopub:{output:cbf}});\n",
    "console.log(kernel);\n",
    "console.log(kernel.kernel_url);\n",
    "var zmqChan = kernel.kernel_url\n",
    "//$.ajax({url:kernel.kernel_url +\"/channels\",data:{session_id:session_id}}).done(cbf);\n",
    "</script>\n",
    "''')\n",
    "f"
   ]
  },
  {
   "cell_type": "code",
   "execution_count": null,
   "metadata": {},
   "outputs": [],
   "source": [
    "f._repr_html_()"
   ]
  },
  {
   "cell_type": "code",
   "execution_count": null,
   "metadata": {},
   "outputs": [],
   "source": [
    "import uuid"
   ]
  },
  {
   "cell_type": "code",
   "execution_count": null,
   "metadata": {},
   "outputs": [],
   "source": [
    "str(uuid.uuid4()).replace('-','')"
   ]
  },
  {
   "cell_type": "code",
   "execution_count": null,
   "metadata": {},
   "outputs": [],
   "source": [
    "f"
   ]
  },
  {
   "cell_type": "code",
   "execution_count": null,
   "metadata": {},
   "outputs": [],
   "source": [
    "globals()"
   ]
  },
  {
   "cell_type": "code",
   "execution_count": null,
   "metadata": {},
   "outputs": [],
   "source": [
    "import ipykernel"
   ]
  },
  {
   "cell_type": "code",
   "execution_count": null,
   "metadata": {},
   "outputs": [],
   "source": [
    "ipykernel.__file__"
   ]
  },
  {
   "cell_type": "code",
   "execution_count": null,
   "metadata": {},
   "outputs": [],
   "source": [
    "%%javascript\n",
    "\n",
    "var c2 = null;\n",
    "\n",
    "Jupyter.notebook.kernel.comm_manager.register_target('my_comm_target',\n",
    "    function(comm, msg) {\n",
    "        // comm is the frontend comm instance\n",
    "        // msg is the comm_open message, which can carry data\n",
    "\n",
    "        // Register handlers for later messages:\n",
    "        comm.on_msg(function(msg) { console.log(\"Got msg\"); console.log(msg); comm.send({'got':'it'});});\n",
    "        comm.on_close(function(msg) {});\n",
    "        comm.send({'foo': 0});\n",
    "    });"
   ]
  },
  {
   "cell_type": "code",
   "execution_count": null,
   "metadata": {},
   "outputs": [],
   "source": [
    "from ipykernel.comm import Comm\n",
    "\n",
    "# Use comm to send a message from the kernel\n",
    "my_comm = Comm(target_name='my_comm_target', data={'foo': 1})\n",
    "my_comm.send({'foo': 2})\n",
    "\n",
    "limit = 5\n",
    "\n",
    "# Add a callback for received messages.\n",
    "@my_comm.on_msg\n",
    "def _recv(msg):\n",
    "    # Use msg['content']['data'] for the data in the message\n",
    "    print(\"Got a mesfdgbnhfgdhh hsage\")\n",
    "    print(msg)\n",
    "    print(msg['content'])\n",
    "    print(msg['content']['data'])\n",
    "    global limit\n",
    "    if limit > 1:\n",
    "        my_comm.send({'limit':limit,\n",
    "                     'incoming':msg})\n",
    "        limit -= 1"
   ]
  },
  {
   "cell_type": "code",
   "execution_count": null,
   "metadata": {},
   "outputs": [],
   "source": [
    "my_comm.send({'fqqoo': 256, 'bqqqqar':'fff'})"
   ]
  },
  {
   "cell_type": "code",
   "execution_count": null,
   "metadata": {},
   "outputs": [],
   "source": [
    "limiter = 10\n",
    "\n",
    "def target_func(comm, msg):\n",
    "    # comm is the kernel Comm instance\n",
    "    # msg is the comm_open message\n",
    "\n",
    "    # Register handler for later messages\n",
    "    @comm.on_msg\n",
    "    def _recv(msg):\n",
    "        # Use msg['content']['data'] for the data in the message\n",
    "        print(\"Got a message in target_func\")\n",
    "        print(msg)\n",
    "        print(msg['content'])\n",
    "        print(msg['content']['data'])\n",
    "        global limiter\n",
    "        if limiter > 0:\n",
    "            comm.send({'limiter':limiter})\n",
    "            limiter -= 1\n",
    "    # Send data to the frontend\n",
    "    comm.send({'foo': 5})\n",
    "\n",
    "get_ipython().kernel.comm_manager.register_target('your_comm_target', target_func)\n",
    "\n"
   ]
  },
  {
   "cell_type": "code",
   "execution_count": null,
   "metadata": {},
   "outputs": [],
   "source": [
    "%%javascript\n",
    "\n",
    "var comm = Jupyter.notebook.kernel.comm_manager.new_comm('your_comm_target2',\n",
    "                                                     {'foo': 6})\n",
    "// Send data\n",
    "comm.send({'foo': 7})\n",
    "\n",
    "// Register a handler\n",
    "comm.on_msg(function(msg) {\n",
    "    console.log(msg.content.data);\n",
    "    comm.send({'whoopie':'do'})\n",
    "});"
   ]
  },
  {
   "cell_type": "code",
   "execution_count": null,
   "metadata": {},
   "outputs": [],
   "source": []
  },
  {
   "cell_type": "code",
   "execution_count": null,
   "metadata": {},
   "outputs": [],
   "source": [
    "from ipykernel.comm import Comm\n",
    "\n",
    "# Use comm to send a message from the kernel\n",
    "my_comm = Comm(target_name='my_comm_target', data={'jpd_type': 'inform',\n",
    "                                                   'da_id': '1234abcde'})\n",
    "my_comm.send({'foo': 2})\n"
   ]
  },
  {
   "cell_type": "code",
   "execution_count": null,
   "metadata": {},
   "outputs": [],
   "source": [
    "my_comm.send({'jpd_type':'response',\n",
    "             'response': 'this is thee response text',\n",
    "             'mimetype': 'text/rubbish'})"
   ]
  },
  {
   "cell_type": "code",
   "execution_count": null,
   "metadata": {},
   "outputs": [],
   "source": [
    "from jupyter_plotly_dash.nbkernel import local_comms"
   ]
  },
  {
   "cell_type": "code",
   "execution_count": null,
   "metadata": {},
   "outputs": [],
   "source": [
    "local_comms"
   ]
  },
  {
   "cell_type": "code",
   "execution_count": null,
   "metadata": {},
   "outputs": [],
   "source": []
  }
 ],
 "metadata": {
  "kernelspec": {
   "display_name": "Python 3",
   "language": "python",
   "name": "python3"
  },
  "language_info": {
   "codemirror_mode": {
    "name": "ipython",
    "version": 3
   },
   "file_extension": ".py",
   "mimetype": "text/x-python",
   "name": "python",
   "nbconvert_exporter": "python",
   "pygments_lexer": "ipython3",
   "version": "3.6.5"
  }
 },
 "nbformat": 4,
 "nbformat_minor": 2
}
