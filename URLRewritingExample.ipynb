{
 "cells": [
  {
   "cell_type": "code",
   "execution_count": 2,
   "metadata": {},
   "outputs": [],
   "source": [
    "hb = \"<html><body>%s</body></html>\"\n",
    "\n",
    "class Renderer:\n",
    "    def __init__(self, url, in_frame=\"SOMETHING\"):\n",
    "        self.raw_html = Renderer.form_frame(url, in_frame)\n",
    "    def _repr_html_(self):\n",
    "        return self.raw_html\n",
    "    @staticmethod\n",
    "    def form_frame(url, in_frame=None):\n",
    "        if in_frame:\n",
    "            hbp = hb % in_frame\n",
    "        else:\n",
    "            hbp = \"\"\n",
    "        return '''<div>\n",
    " <iframe src=\"%(url)s\" height=\"100\" width=\"300\">%(hbp)s</iframe>\n",
    " <div>The input was %(url)s</div> and a link is <a href=\"%(url)s\">HERE</a>\n",
    "</div>''' % {\"url\":url, \"hbp\":hbp}"
   ]
  },
  {
   "cell_type": "code",
   "execution_count": 3,
   "metadata": {},
   "outputs": [
    {
     "data": {
      "text/html": [
       "<div>\n",
       " <iframe src=\"/some/url/\" height=\"100\" width=\"300\"><html><body>SOMETHING</body></html></iframe>\n",
       " <div>The input was /some/url/</div> and a link is <a href=\"/some/url/\">HERE</a>\n",
       "</div>"
      ],
      "text/plain": [
       "<__main__.Renderer at 0x7f87c838fb38>"
      ]
     },
     "execution_count": 3,
     "metadata": {},
     "output_type": "execute_result"
    }
   ],
   "source": [
    "Renderer(\"/some/url/\")"
   ]
  },
  {
   "cell_type": "code",
   "execution_count": 4,
   "metadata": {},
   "outputs": [
    {
     "data": {
      "text/html": [
       "<div>\n",
       " <iframe src=\"http://localhost:8888/some/url/\" height=\"100\" width=\"300\"><html><body>SOMETHING</body></html></iframe>\n",
       " <div>The input was http://localhost:8888/some/url/</div> and a link is <a href=\"http://localhost:8888/some/url/\">HERE</a>\n",
       "</div>"
      ],
      "text/plain": [
       "<__main__.Renderer at 0x7f87c838fba8>"
      ]
     },
     "execution_count": 4,
     "metadata": {},
     "output_type": "execute_result"
    }
   ],
   "source": [
    "Renderer(\"http://localhost:8888/some/url/\")"
   ]
  },
  {
   "cell_type": "code",
   "execution_count": 5,
   "metadata": {},
   "outputs": [
    {
     "data": {
      "text/html": [
       "<div>\n",
       " <iframe src=\"/lab\" height=\"100\" width=\"300\"><html><body>SOMETHING</body></html></iframe>\n",
       " <div>The input was /lab</div> and a link is <a href=\"/lab\">HERE</a>\n",
       "</div>"
      ],
      "text/plain": [
       "<__main__.Renderer at 0x7f87c838fef0>"
      ]
     },
     "execution_count": 5,
     "metadata": {},
     "output_type": "execute_result"
    }
   ],
   "source": [
    "Renderer(\"/lab\")"
   ]
  },
  {
   "cell_type": "code",
   "execution_count": 8,
   "metadata": {},
   "outputs": [
    {
     "data": {
      "text/html": [
       "<div>\n",
       " <iframe src=\"http://localhost:8888/tree\" height=\"100\" width=\"300\"><html><body>SOMETHING</body></html></iframe>\n",
       " <div>The input was http://localhost:8888/tree</div> and a link is <a href=\"http://localhost:8888/tree\">HERE</a>\n",
       "</div>"
      ],
      "text/plain": [
       "<__main__.Renderer at 0x7f87c82fe160>"
      ]
     },
     "execution_count": 8,
     "metadata": {},
     "output_type": "execute_result"
    }
   ],
   "source": [
    "Renderer(\"http://localhost:8888/tree\")"
   ]
  },
  {
   "cell_type": "code",
   "execution_count": null,
   "metadata": {},
   "outputs": [],
   "source": []
  }
 ],
 "metadata": {
  "kernelspec": {
   "display_name": "Python 3",
   "language": "python",
   "name": "python3"
  },
  "language_info": {
   "codemirror_mode": {
    "name": "ipython",
    "version": 3
   },
   "file_extension": ".py",
   "mimetype": "text/x-python",
   "name": "python",
   "nbconvert_exporter": "python",
   "pygments_lexer": "ipython3",
   "version": "3.6.5"
  }
 },
 "nbformat": 4,
 "nbformat_minor": 2
}
