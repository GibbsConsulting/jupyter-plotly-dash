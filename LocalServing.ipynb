{
 "cells": [
  {
   "cell_type": "code",
   "execution_count": 1,
   "metadata": {},
   "outputs": [],
   "source": [
    "from jupyter_plotly_dash import JupyterDash"
   ]
  },
  {
   "cell_type": "code",
   "execution_count": 2,
   "metadata": {},
   "outputs": [],
   "source": [
    "import dash\n",
    "import dash_core_components as dcc\n",
    "import dash_html_components as html\n",
    "import dash_bootstrap_components as dbc\n",
    "from dash.dependencies import Input, Output\n",
    "\n",
    "dd = JupyterDash('SomeID', serve_locally=True, add_bootstrap_links=True)\n",
    "\n",
    "dd.layout = html.Div([dcc.RadioItems(id='item_list', \n",
    "                                     options = [dict(label = k, value = k) for k in ['Hey', 'HiHi']]), \n",
    "                      html.Div(id='button_list'),\n",
    "        dbc.Alert(\"This is an alert\", color=\"primary\"),\n",
    "        dbc.Alert(\"Danger\", color=\"danger\"),\n",
    "        dbc.Checklist(id='check_switch', switch=True,\n",
    "                      options=[{\"label\": \"An example switch\", \"value\": 1}], value=[0]),\n",
    "        dbc.Checklist(id='check_check', switch=False,\n",
    "                      options=[{\"label\": \"An example checkbox\", \"value\": 1}], value=[0]),\n",
    "                      html.Div(id=\"text_out\")])\n",
    "@dd.expanded_callback(\n",
    "    [Output(component_id='button_list', component_property='children'),\n",
    "     Output(component_id=\"text_out\", component_property=\"children\")],\n",
    "    [Input(component_id='item_list', component_property='value')],\n",
    ")\n",
    "def update_button_list(selected_idx, **kwargs):\n",
    "    #print(\"Selected index is %s\"%selected_idx)\n",
    "    if selected_idx is not None:\n",
    "        return ([html.Button('Hey %s %04d' % (selected_idx, i),\n",
    "                            id = 'id_%s_%04d' % (selected_idx, i)) for i in range(len(selected_idx))],\n",
    "        f\"text is {selected_idx}\")\n",
    "    else:\n",
    "        return (\"\",\"\")\n"
   ]
  },
  {
   "cell_type": "code",
   "execution_count": 3,
   "metadata": {},
   "outputs": [
    {
     "data": {
      "text/html": [
       "<div>\n",
       "  <iframe src=\"/app/endpoints/ba8c6992b8f249d0b6bf8b8b465a8132/\" width=800 height=700 frameborder=\"0\"></iframe>\n",
       "  <hr/><a href=\"/app/endpoints/ba8c6992b8f249d0b6bf8b8b465a8132/\" target=\"_new\">Open in new window</a> for /app/endpoints/ba8c6992b8f249d0b6bf8b8b465a8132/\n",
       "</div>"
      ],
      "text/plain": [
       "<jupyter_plotly_dash.dash_wrapper.JupyterDash at 0x7f9790e67c10>"
      ]
     },
     "execution_count": 3,
     "metadata": {},
     "output_type": "execute_result"
    }
   ],
   "source": [
    "dd.width = 800\n",
    "dd.height = 700\n",
    "dd"
   ]
  },
  {
   "cell_type": "code",
   "execution_count": 4,
   "metadata": {},
   "outputs": [
    {
     "data": {
      "text/plain": [
       "'/app/endpoints/ba8c6992b8f249d0b6bf8b8b465a8132/'"
      ]
     },
     "execution_count": 4,
     "metadata": {},
     "output_type": "execute_result"
    }
   ],
   "source": [
    "dd.get_app_root_url()"
   ]
  },
  {
   "cell_type": "code",
   "execution_count": null,
   "metadata": {},
   "outputs": [],
   "source": []
  },
  {
   "cell_type": "code",
   "execution_count": null,
   "metadata": {},
   "outputs": [],
   "source": []
  }
 ],
 "metadata": {
  "kernelspec": {
   "display_name": "Python 3",
   "language": "python",
   "name": "python3"
  },
  "language_info": {
   "codemirror_mode": {
    "name": "ipython",
    "version": 3
   },
   "file_extension": ".py",
   "mimetype": "text/x-python",
   "name": "python",
   "nbconvert_exporter": "python",
   "pygments_lexer": "ipython3",
   "version": "3.7.6"
  }
 },
 "nbformat": 4,
 "nbformat_minor": 2
}
